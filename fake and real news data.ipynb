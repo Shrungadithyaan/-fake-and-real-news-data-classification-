{
 "cells": [
  {
   "cell_type": "markdown",
   "metadata": {},
   "source": [
    "# NLP: Text Classification using Spacy word Embeddings\n",
    "\n",
    "# end-to-end project: fake and real news data"
   ]
  },
  {
   "cell_type": "code",
   "execution_count": 1,
   "metadata": {},
   "outputs": [],
   "source": [
    "import pandas as pd\n"
   ]
  },
  {
   "cell_type": "code",
   "execution_count": 2,
   "metadata": {},
   "outputs": [],
   "source": [
    "df = pd.read_csv(\"fake_or_real_news.csv\")\n"
   ]
  },
  {
   "cell_type": "code",
   "execution_count": 3,
   "metadata": {},
   "outputs": [
    {
     "name": "stdout",
     "output_type": "stream",
     "text": [
      "(6335, 4)\n"
     ]
    }
   ],
   "source": [
    "print(df.shape)"
   ]
  },
  {
   "cell_type": "code",
   "execution_count": 4,
   "metadata": {},
   "outputs": [
    {
     "data": {
      "text/html": [
       "<div>\n",
       "<style scoped>\n",
       "    .dataframe tbody tr th:only-of-type {\n",
       "        vertical-align: middle;\n",
       "    }\n",
       "\n",
       "    .dataframe tbody tr th {\n",
       "        vertical-align: top;\n",
       "    }\n",
       "\n",
       "    .dataframe thead th {\n",
       "        text-align: right;\n",
       "    }\n",
       "</style>\n",
       "<table border=\"1\" class=\"dataframe\">\n",
       "  <thead>\n",
       "    <tr style=\"text-align: right;\">\n",
       "      <th></th>\n",
       "      <th>Unnamed: 0</th>\n",
       "      <th>title</th>\n",
       "      <th>text</th>\n",
       "      <th>label</th>\n",
       "    </tr>\n",
       "  </thead>\n",
       "  <tbody>\n",
       "    <tr>\n",
       "      <th>0</th>\n",
       "      <td>8476</td>\n",
       "      <td>You Can Smell Hillary’s Fear</td>\n",
       "      <td>Daniel Greenfield, a Shillman Journalism Fello...</td>\n",
       "      <td>FAKE</td>\n",
       "    </tr>\n",
       "    <tr>\n",
       "      <th>1</th>\n",
       "      <td>10294</td>\n",
       "      <td>Watch The Exact Moment Paul Ryan Committed Pol...</td>\n",
       "      <td>Google Pinterest Digg Linkedin Reddit Stumbleu...</td>\n",
       "      <td>FAKE</td>\n",
       "    </tr>\n",
       "    <tr>\n",
       "      <th>2</th>\n",
       "      <td>3608</td>\n",
       "      <td>Kerry to go to Paris in gesture of sympathy</td>\n",
       "      <td>U.S. Secretary of State John F. Kerry said Mon...</td>\n",
       "      <td>REAL</td>\n",
       "    </tr>\n",
       "    <tr>\n",
       "      <th>3</th>\n",
       "      <td>10142</td>\n",
       "      <td>Bernie supporters on Twitter erupt in anger ag...</td>\n",
       "      <td>— Kaydee King (@KaydeeKing) November 9, 2016 T...</td>\n",
       "      <td>FAKE</td>\n",
       "    </tr>\n",
       "    <tr>\n",
       "      <th>4</th>\n",
       "      <td>875</td>\n",
       "      <td>The Battle of New York: Why This Primary Matters</td>\n",
       "      <td>It's primary day in New York and front-runners...</td>\n",
       "      <td>REAL</td>\n",
       "    </tr>\n",
       "  </tbody>\n",
       "</table>\n",
       "</div>"
      ],
      "text/plain": [
       "   Unnamed: 0                                              title  \\\n",
       "0        8476                       You Can Smell Hillary’s Fear   \n",
       "1       10294  Watch The Exact Moment Paul Ryan Committed Pol...   \n",
       "2        3608        Kerry to go to Paris in gesture of sympathy   \n",
       "3       10142  Bernie supporters on Twitter erupt in anger ag...   \n",
       "4         875   The Battle of New York: Why This Primary Matters   \n",
       "\n",
       "                                                text label  \n",
       "0  Daniel Greenfield, a Shillman Journalism Fello...  FAKE  \n",
       "1  Google Pinterest Digg Linkedin Reddit Stumbleu...  FAKE  \n",
       "2  U.S. Secretary of State John F. Kerry said Mon...  REAL  \n",
       "3  — Kaydee King (@KaydeeKing) November 9, 2016 T...  FAKE  \n",
       "4  It's primary day in New York and front-runners...  REAL  "
      ]
     },
     "execution_count": 4,
     "metadata": {},
     "output_type": "execute_result"
    }
   ],
   "source": [
    "df.head()"
   ]
  },
  {
   "cell_type": "code",
   "execution_count": 5,
   "metadata": {},
   "outputs": [
    {
     "name": "stdout",
     "output_type": "stream",
     "text": [
      "['FAKE' 'REAL']\n"
     ]
    }
   ],
   "source": [
    "print(df['label'].unique())"
   ]
  },
  {
   "cell_type": "code",
   "execution_count": 6,
   "metadata": {},
   "outputs": [
    {
     "data": {
      "text/html": [
       "<div>\n",
       "<style scoped>\n",
       "    .dataframe tbody tr th:only-of-type {\n",
       "        vertical-align: middle;\n",
       "    }\n",
       "\n",
       "    .dataframe tbody tr th {\n",
       "        vertical-align: top;\n",
       "    }\n",
       "\n",
       "    .dataframe thead th {\n",
       "        text-align: right;\n",
       "    }\n",
       "</style>\n",
       "<table border=\"1\" class=\"dataframe\">\n",
       "  <thead>\n",
       "    <tr style=\"text-align: right;\">\n",
       "      <th></th>\n",
       "      <th>Unnamed: 0</th>\n",
       "      <th>title</th>\n",
       "      <th>text</th>\n",
       "      <th>label</th>\n",
       "    </tr>\n",
       "  </thead>\n",
       "  <tbody>\n",
       "    <tr>\n",
       "      <th>0</th>\n",
       "      <td>8476</td>\n",
       "      <td>You Can Smell Hillary’s Fear</td>\n",
       "      <td>Daniel Greenfield, a Shillman Journalism Fello...</td>\n",
       "      <td>FAKE</td>\n",
       "    </tr>\n",
       "    <tr>\n",
       "      <th>1</th>\n",
       "      <td>10294</td>\n",
       "      <td>Watch The Exact Moment Paul Ryan Committed Pol...</td>\n",
       "      <td>Google Pinterest Digg Linkedin Reddit Stumbleu...</td>\n",
       "      <td>FAKE</td>\n",
       "    </tr>\n",
       "    <tr>\n",
       "      <th>2</th>\n",
       "      <td>3608</td>\n",
       "      <td>Kerry to go to Paris in gesture of sympathy</td>\n",
       "      <td>U.S. Secretary of State John F. Kerry said Mon...</td>\n",
       "      <td>REAL</td>\n",
       "    </tr>\n",
       "    <tr>\n",
       "      <th>3</th>\n",
       "      <td>10142</td>\n",
       "      <td>Bernie supporters on Twitter erupt in anger ag...</td>\n",
       "      <td>— Kaydee King (@KaydeeKing) November 9, 2016 T...</td>\n",
       "      <td>FAKE</td>\n",
       "    </tr>\n",
       "    <tr>\n",
       "      <th>4</th>\n",
       "      <td>875</td>\n",
       "      <td>The Battle of New York: Why This Primary Matters</td>\n",
       "      <td>It's primary day in New York and front-runners...</td>\n",
       "      <td>REAL</td>\n",
       "    </tr>\n",
       "  </tbody>\n",
       "</table>\n",
       "</div>"
      ],
      "text/plain": [
       "   Unnamed: 0                                              title  \\\n",
       "0        8476                       You Can Smell Hillary’s Fear   \n",
       "1       10294  Watch The Exact Moment Paul Ryan Committed Pol...   \n",
       "2        3608        Kerry to go to Paris in gesture of sympathy   \n",
       "3       10142  Bernie supporters on Twitter erupt in anger ag...   \n",
       "4         875   The Battle of New York: Why This Primary Matters   \n",
       "\n",
       "                                                text label  \n",
       "0  Daniel Greenfield, a Shillman Journalism Fello...  FAKE  \n",
       "1  Google Pinterest Digg Linkedin Reddit Stumbleu...  FAKE  \n",
       "2  U.S. Secretary of State John F. Kerry said Mon...  REAL  \n",
       "3  — Kaydee King (@KaydeeKing) November 9, 2016 T...  FAKE  \n",
       "4  It's primary day in New York and front-runners...  REAL  "
      ]
     },
     "execution_count": 6,
     "metadata": {},
     "output_type": "execute_result"
    }
   ],
   "source": [
    "df.head()"
   ]
  },
  {
   "cell_type": "code",
   "execution_count": 7,
   "metadata": {},
   "outputs": [],
   "source": [
    "df = df[['text','label']]"
   ]
  },
  {
   "cell_type": "code",
   "execution_count": 8,
   "metadata": {},
   "outputs": [
    {
     "data": {
      "text/html": [
       "<div>\n",
       "<style scoped>\n",
       "    .dataframe tbody tr th:only-of-type {\n",
       "        vertical-align: middle;\n",
       "    }\n",
       "\n",
       "    .dataframe tbody tr th {\n",
       "        vertical-align: top;\n",
       "    }\n",
       "\n",
       "    .dataframe thead th {\n",
       "        text-align: right;\n",
       "    }\n",
       "</style>\n",
       "<table border=\"1\" class=\"dataframe\">\n",
       "  <thead>\n",
       "    <tr style=\"text-align: right;\">\n",
       "      <th></th>\n",
       "      <th>text</th>\n",
       "      <th>label</th>\n",
       "    </tr>\n",
       "  </thead>\n",
       "  <tbody>\n",
       "    <tr>\n",
       "      <th>0</th>\n",
       "      <td>Daniel Greenfield, a Shillman Journalism Fello...</td>\n",
       "      <td>FAKE</td>\n",
       "    </tr>\n",
       "    <tr>\n",
       "      <th>1</th>\n",
       "      <td>Google Pinterest Digg Linkedin Reddit Stumbleu...</td>\n",
       "      <td>FAKE</td>\n",
       "    </tr>\n",
       "    <tr>\n",
       "      <th>2</th>\n",
       "      <td>U.S. Secretary of State John F. Kerry said Mon...</td>\n",
       "      <td>REAL</td>\n",
       "    </tr>\n",
       "    <tr>\n",
       "      <th>3</th>\n",
       "      <td>— Kaydee King (@KaydeeKing) November 9, 2016 T...</td>\n",
       "      <td>FAKE</td>\n",
       "    </tr>\n",
       "    <tr>\n",
       "      <th>4</th>\n",
       "      <td>It's primary day in New York and front-runners...</td>\n",
       "      <td>REAL</td>\n",
       "    </tr>\n",
       "  </tbody>\n",
       "</table>\n",
       "</div>"
      ],
      "text/plain": [
       "                                                text label\n",
       "0  Daniel Greenfield, a Shillman Journalism Fello...  FAKE\n",
       "1  Google Pinterest Digg Linkedin Reddit Stumbleu...  FAKE\n",
       "2  U.S. Secretary of State John F. Kerry said Mon...  REAL\n",
       "3  — Kaydee King (@KaydeeKing) November 9, 2016 T...  FAKE\n",
       "4  It's primary day in New York and front-runners...  REAL"
      ]
     },
     "execution_count": 8,
     "metadata": {},
     "output_type": "execute_result"
    }
   ],
   "source": [
    "df.head()"
   ]
  },
  {
   "cell_type": "code",
   "execution_count": 9,
   "metadata": {},
   "outputs": [
    {
     "name": "stdout",
     "output_type": "stream",
     "text": [
      "(6335, 2)\n"
     ]
    }
   ],
   "source": [
    "print(df.shape)"
   ]
  },
  {
   "cell_type": "code",
   "execution_count": 10,
   "metadata": {},
   "outputs": [
    {
     "data": {
      "text/plain": [
       "label\n",
       "REAL    3171\n",
       "FAKE    3164\n",
       "Name: count, dtype: int64"
      ]
     },
     "execution_count": 10,
     "metadata": {},
     "output_type": "execute_result"
    }
   ],
   "source": [
    "#check for imbalance dataset\n",
    "# check the distribution of data in our dataset\n",
    "df['label'].value_counts()"
   ]
  },
  {
   "cell_type": "code",
   "execution_count": 11,
   "metadata": {},
   "outputs": [
    {
     "name": "stdout",
     "output_type": "stream",
     "text": [
      "                                                text label  label_num\n",
      "0  Daniel Greenfield, a Shillman Journalism Fello...  fake          0\n",
      "1  Google Pinterest Digg Linkedin Reddit Stumbleu...  fake          0\n",
      "2  U.S. Secretary of State John F. Kerry said Mon...  real          1\n",
      "3  — Kaydee King (@KaydeeKing) November 9, 2016 T...  fake          0\n",
      "4  It's primary day in New York and front-runners...  real          1\n"
     ]
    }
   ],
   "source": [
    "df['label'] = df['label'].str.lower()\n",
    "\n",
    "# Create the 'label_num' column using the updated mapping dictionary\n",
    "df['label_num'] = df['label'].map({'fake': 0, 'real': 1})\n",
    "\n",
    "# Verify the result\n",
    "print(df.head())"
   ]
  },
  {
   "cell_type": "code",
   "execution_count": 12,
   "metadata": {},
   "outputs": [],
   "source": [
    "# import spacy\n",
    "# python -m spacy download en_core_web_lg/\n",
    "# nlp = spacy.load(\"en_core_web_lg\")"
   ]
  },
  {
   "cell_type": "code",
   "execution_count": 13,
   "metadata": {},
   "outputs": [],
   "source": [
    "import spacy"
   ]
  },
  {
   "cell_type": "code",
   "execution_count": 14,
   "metadata": {},
   "outputs": [],
   "source": [
    "nlp = spacy.load(\"en_core_web_lg\")"
   ]
  },
  {
   "cell_type": "code",
   "execution_count": 15,
   "metadata": {},
   "outputs": [],
   "source": [
    "df['vector'] = df['text'].apply(lambda text: nlp(text).vector)"
   ]
  },
  {
   "cell_type": "code",
   "execution_count": 16,
   "metadata": {},
   "outputs": [
    {
     "data": {
      "text/plain": [
       "6335"
      ]
     },
     "execution_count": 16,
     "metadata": {},
     "output_type": "execute_result"
    }
   ],
   "source": [
    "len(df)"
   ]
  },
  {
   "cell_type": "code",
   "execution_count": 17,
   "metadata": {},
   "outputs": [
    {
     "data": {
      "text/html": [
       "<div>\n",
       "<style scoped>\n",
       "    .dataframe tbody tr th:only-of-type {\n",
       "        vertical-align: middle;\n",
       "    }\n",
       "\n",
       "    .dataframe tbody tr th {\n",
       "        vertical-align: top;\n",
       "    }\n",
       "\n",
       "    .dataframe thead th {\n",
       "        text-align: right;\n",
       "    }\n",
       "</style>\n",
       "<table border=\"1\" class=\"dataframe\">\n",
       "  <thead>\n",
       "    <tr style=\"text-align: right;\">\n",
       "      <th></th>\n",
       "      <th>text</th>\n",
       "      <th>label</th>\n",
       "      <th>label_num</th>\n",
       "      <th>vector</th>\n",
       "    </tr>\n",
       "  </thead>\n",
       "  <tbody>\n",
       "    <tr>\n",
       "      <th>0</th>\n",
       "      <td>Daniel Greenfield, a Shillman Journalism Fello...</td>\n",
       "      <td>fake</td>\n",
       "      <td>0</td>\n",
       "      <td>[-1.3751823, 1.3421849, -2.3666484, 0.12908486...</td>\n",
       "    </tr>\n",
       "    <tr>\n",
       "      <th>1</th>\n",
       "      <td>Google Pinterest Digg Linkedin Reddit Stumbleu...</td>\n",
       "      <td>fake</td>\n",
       "      <td>0</td>\n",
       "      <td>[-1.7449774, 0.93961924, -2.024867, 0.42536643...</td>\n",
       "    </tr>\n",
       "    <tr>\n",
       "      <th>2</th>\n",
       "      <td>U.S. Secretary of State John F. Kerry said Mon...</td>\n",
       "      <td>real</td>\n",
       "      <td>1</td>\n",
       "      <td>[-1.9426425, 1.0062195, -1.9992222, 0.20469022...</td>\n",
       "    </tr>\n",
       "    <tr>\n",
       "      <th>3</th>\n",
       "      <td>— Kaydee King (@KaydeeKing) November 9, 2016 T...</td>\n",
       "      <td>fake</td>\n",
       "      <td>0</td>\n",
       "      <td>[-1.9125352, -0.1481846, -1.1432766, 0.6861217...</td>\n",
       "    </tr>\n",
       "    <tr>\n",
       "      <th>4</th>\n",
       "      <td>It's primary day in New York and front-runners...</td>\n",
       "      <td>real</td>\n",
       "      <td>1</td>\n",
       "      <td>[-1.8516092, 1.3163909, -2.1726575, 1.2286776,...</td>\n",
       "    </tr>\n",
       "  </tbody>\n",
       "</table>\n",
       "</div>"
      ],
      "text/plain": [
       "                                                text label  label_num  \\\n",
       "0  Daniel Greenfield, a Shillman Journalism Fello...  fake          0   \n",
       "1  Google Pinterest Digg Linkedin Reddit Stumbleu...  fake          0   \n",
       "2  U.S. Secretary of State John F. Kerry said Mon...  real          1   \n",
       "3  — Kaydee King (@KaydeeKing) November 9, 2016 T...  fake          0   \n",
       "4  It's primary day in New York and front-runners...  real          1   \n",
       "\n",
       "                                              vector  \n",
       "0  [-1.3751823, 1.3421849, -2.3666484, 0.12908486...  \n",
       "1  [-1.7449774, 0.93961924, -2.024867, 0.42536643...  \n",
       "2  [-1.9426425, 1.0062195, -1.9992222, 0.20469022...  \n",
       "3  [-1.9125352, -0.1481846, -1.1432766, 0.6861217...  \n",
       "4  [-1.8516092, 1.3163909, -2.1726575, 1.2286776,...  "
      ]
     },
     "execution_count": 17,
     "metadata": {},
     "output_type": "execute_result"
    }
   ],
   "source": [
    "df.head()"
   ]
  },
  {
   "cell_type": "code",
   "execution_count": 18,
   "metadata": {},
   "outputs": [],
   "source": [
    "from sklearn.model_selection import train_test_split\n",
    "\n",
    "X_train , X_test, y_train, y_test = train_test_split(df.vector.values, df.label_num, test_size=0.3, random_state=42\n",
    "                                                     )"
   ]
  },
  {
   "cell_type": "code",
   "execution_count": 19,
   "metadata": {},
   "outputs": [
    {
     "data": {
      "text/plain": [
       "(4434,)"
      ]
     },
     "execution_count": 19,
     "metadata": {},
     "output_type": "execute_result"
    }
   ],
   "source": [
    "X_train.shape"
   ]
  },
  {
   "cell_type": "code",
   "execution_count": 20,
   "metadata": {},
   "outputs": [
    {
     "data": {
      "text/plain": [
       "(1901,)"
      ]
     },
     "execution_count": 20,
     "metadata": {},
     "output_type": "execute_result"
    }
   ],
   "source": [
    "X_test.shape"
   ]
  },
  {
   "cell_type": "code",
   "execution_count": 21,
   "metadata": {},
   "outputs": [],
   "source": [
    "import numpy as np\n",
    "\n",
    "X_train_stack = np.stack(X_train)\n",
    "X_test_stack = np.stack(X_test)\n",
    "\n"
   ]
  },
  {
   "cell_type": "code",
   "execution_count": 22,
   "metadata": {},
   "outputs": [
    {
     "data": {
      "text/plain": [
       "(1901, 300)"
      ]
     },
     "execution_count": 22,
     "metadata": {},
     "output_type": "execute_result"
    }
   ],
   "source": [
    "X_test_stack.shape"
   ]
  },
  {
   "cell_type": "code",
   "execution_count": 23,
   "metadata": {},
   "outputs": [],
   "source": [
    "# from sklearn.naive_bayes import MultinomialNB\n",
    "\n",
    "# model = MultinomialNB()\n",
    "\n",
    "# model.fit(X_train,y_train)\n",
    "\n",
    "## It will show an error because of negative value so we need to scale the value"
   ]
  },
  {
   "cell_type": "code",
   "execution_count": 24,
   "metadata": {},
   "outputs": [
    {
     "data": {
      "text/html": [
       "<style>#sk-container-id-1 {color: black;}#sk-container-id-1 pre{padding: 0;}#sk-container-id-1 div.sk-toggleable {background-color: white;}#sk-container-id-1 label.sk-toggleable__label {cursor: pointer;display: block;width: 100%;margin-bottom: 0;padding: 0.3em;box-sizing: border-box;text-align: center;}#sk-container-id-1 label.sk-toggleable__label-arrow:before {content: \"▸\";float: left;margin-right: 0.25em;color: #696969;}#sk-container-id-1 label.sk-toggleable__label-arrow:hover:before {color: black;}#sk-container-id-1 div.sk-estimator:hover label.sk-toggleable__label-arrow:before {color: black;}#sk-container-id-1 div.sk-toggleable__content {max-height: 0;max-width: 0;overflow: hidden;text-align: left;background-color: #f0f8ff;}#sk-container-id-1 div.sk-toggleable__content pre {margin: 0.2em;color: black;border-radius: 0.25em;background-color: #f0f8ff;}#sk-container-id-1 input.sk-toggleable__control:checked~div.sk-toggleable__content {max-height: 200px;max-width: 100%;overflow: auto;}#sk-container-id-1 input.sk-toggleable__control:checked~label.sk-toggleable__label-arrow:before {content: \"▾\";}#sk-container-id-1 div.sk-estimator input.sk-toggleable__control:checked~label.sk-toggleable__label {background-color: #d4ebff;}#sk-container-id-1 div.sk-label input.sk-toggleable__control:checked~label.sk-toggleable__label {background-color: #d4ebff;}#sk-container-id-1 input.sk-hidden--visually {border: 0;clip: rect(1px 1px 1px 1px);clip: rect(1px, 1px, 1px, 1px);height: 1px;margin: -1px;overflow: hidden;padding: 0;position: absolute;width: 1px;}#sk-container-id-1 div.sk-estimator {font-family: monospace;background-color: #f0f8ff;border: 1px dotted black;border-radius: 0.25em;box-sizing: border-box;margin-bottom: 0.5em;}#sk-container-id-1 div.sk-estimator:hover {background-color: #d4ebff;}#sk-container-id-1 div.sk-parallel-item::after {content: \"\";width: 100%;border-bottom: 1px solid gray;flex-grow: 1;}#sk-container-id-1 div.sk-label:hover label.sk-toggleable__label {background-color: #d4ebff;}#sk-container-id-1 div.sk-serial::before {content: \"\";position: absolute;border-left: 1px solid gray;box-sizing: border-box;top: 0;bottom: 0;left: 50%;z-index: 0;}#sk-container-id-1 div.sk-serial {display: flex;flex-direction: column;align-items: center;background-color: white;padding-right: 0.2em;padding-left: 0.2em;position: relative;}#sk-container-id-1 div.sk-item {position: relative;z-index: 1;}#sk-container-id-1 div.sk-parallel {display: flex;align-items: stretch;justify-content: center;background-color: white;position: relative;}#sk-container-id-1 div.sk-item::before, #sk-container-id-1 div.sk-parallel-item::before {content: \"\";position: absolute;border-left: 1px solid gray;box-sizing: border-box;top: 0;bottom: 0;left: 50%;z-index: -1;}#sk-container-id-1 div.sk-parallel-item {display: flex;flex-direction: column;z-index: 1;position: relative;background-color: white;}#sk-container-id-1 div.sk-parallel-item:first-child::after {align-self: flex-end;width: 50%;}#sk-container-id-1 div.sk-parallel-item:last-child::after {align-self: flex-start;width: 50%;}#sk-container-id-1 div.sk-parallel-item:only-child::after {width: 0;}#sk-container-id-1 div.sk-dashed-wrapped {border: 1px dashed gray;margin: 0 0.4em 0.5em 0.4em;box-sizing: border-box;padding-bottom: 0.4em;background-color: white;}#sk-container-id-1 div.sk-label label {font-family: monospace;font-weight: bold;display: inline-block;line-height: 1.2em;}#sk-container-id-1 div.sk-label-container {text-align: center;}#sk-container-id-1 div.sk-container {/* jupyter's `normalize.less` sets `[hidden] { display: none; }` but bootstrap.min.css set `[hidden] { display: none !important; }` so we also need the `!important` here to be able to override the default hidden behavior on the sphinx rendered scikit-learn.org. See: https://github.com/scikit-learn/scikit-learn/issues/21755 */display: inline-block !important;position: relative;}#sk-container-id-1 div.sk-text-repr-fallback {display: none;}</style><div id=\"sk-container-id-1\" class=\"sk-top-container\"><div class=\"sk-text-repr-fallback\"><pre>MultinomialNB()</pre><b>In a Jupyter environment, please rerun this cell to show the HTML representation or trust the notebook. <br />On GitHub, the HTML representation is unable to render, please try loading this page with nbviewer.org.</b></div><div class=\"sk-container\" hidden><div class=\"sk-item\"><div class=\"sk-estimator sk-toggleable\"><input class=\"sk-toggleable__control sk-hidden--visually\" id=\"sk-estimator-id-1\" type=\"checkbox\" checked><label for=\"sk-estimator-id-1\" class=\"sk-toggleable__label sk-toggleable__label-arrow\">MultinomialNB</label><div class=\"sk-toggleable__content\"><pre>MultinomialNB()</pre></div></div></div></div></div>"
      ],
      "text/plain": [
       "MultinomialNB()"
      ]
     },
     "execution_count": 24,
     "metadata": {},
     "output_type": "execute_result"
    }
   ],
   "source": [
    "from sklearn.naive_bayes import MultinomialNB\n",
    "\n",
    "model = MultinomialNB()\n",
    "\n",
    "from sklearn.preprocessing import MinMaxScaler\n",
    "scaler = MinMaxScaler()\n",
    "X_train_stack_sc = scaler.fit_transform(X_train_stack)\n",
    "X_test_stack_sc = scaler.fit_transform(X_test_stack)\n",
    "\n",
    "\n",
    "model.fit(X_train_stack_sc,y_train)\n"
   ]
  },
  {
   "cell_type": "code",
   "execution_count": 27,
   "metadata": {},
   "outputs": [
    {
     "data": {
      "text/plain": [
       "array([0, 0, 0, ..., 0, 0, 1], dtype=int64)"
      ]
     },
     "execution_count": 27,
     "metadata": {},
     "output_type": "execute_result"
    }
   ],
   "source": [
    "y_pred = model.predict(X_test_stack_sc)\n",
    "y_pred"
   ]
  },
  {
   "cell_type": "code",
   "execution_count": 28,
   "metadata": {},
   "outputs": [
    {
     "data": {
      "text/plain": [
       "1357    0\n",
       "2080    0\n",
       "2718    0\n",
       "812     0\n",
       "4886    0\n",
       "       ..\n",
       "332     0\n",
       "833     0\n",
       "5189    0\n",
       "5290    1\n",
       "2927    1\n",
       "Name: label_num, Length: 1901, dtype: int64"
      ]
     },
     "execution_count": 28,
     "metadata": {},
     "output_type": "execute_result"
    }
   ],
   "source": [
    "y_test"
   ]
  },
  {
   "cell_type": "code",
   "execution_count": 29,
   "metadata": {},
   "outputs": [
    {
     "data": {
      "text/plain": [
       "0.667017359284587"
      ]
     },
     "execution_count": 29,
     "metadata": {},
     "output_type": "execute_result"
    }
   ],
   "source": [
    "from sklearn.metrics import accuracy_score\n",
    "\n",
    "accuracy_score(y_test,y_pred)"
   ]
  },
  {
   "cell_type": "code",
   "execution_count": 30,
   "metadata": {},
   "outputs": [
    {
     "name": "stdout",
     "output_type": "stream",
     "text": [
      "              precision    recall  f1-score   support\n",
      "\n",
      "           0       0.61      0.98      0.75       968\n",
      "           1       0.94      0.34      0.50       933\n",
      "\n",
      "    accuracy                           0.67      1901\n",
      "   macro avg       0.77      0.66      0.63      1901\n",
      "weighted avg       0.77      0.67      0.63      1901\n",
      "\n"
     ]
    }
   ],
   "source": [
    "from sklearn.metrics import classification_report\n",
    "print(classification_report(y_test,y_pred))"
   ]
  },
  {
   "cell_type": "code",
   "execution_count": 31,
   "metadata": {},
   "outputs": [
    {
     "data": {
      "text/plain": [
       "array([[948,  20],\n",
       "       [613, 320]], dtype=int64)"
      ]
     },
     "execution_count": 31,
     "metadata": {},
     "output_type": "execute_result"
    }
   ],
   "source": [
    "from sklearn.metrics import confusion_matrix\n",
    "confusion_matrix(y_test,y_pred)"
   ]
  },
  {
   "cell_type": "code",
   "execution_count": 32,
   "metadata": {},
   "outputs": [],
   "source": [
    "model = MultinomialNB(alpha=0.1)"
   ]
  },
  {
   "cell_type": "code",
   "execution_count": 26,
   "metadata": {},
   "outputs": [
    {
     "data": {
      "text/html": [
       "<style>#sk-container-id-2 {color: black;}#sk-container-id-2 pre{padding: 0;}#sk-container-id-2 div.sk-toggleable {background-color: white;}#sk-container-id-2 label.sk-toggleable__label {cursor: pointer;display: block;width: 100%;margin-bottom: 0;padding: 0.3em;box-sizing: border-box;text-align: center;}#sk-container-id-2 label.sk-toggleable__label-arrow:before {content: \"▸\";float: left;margin-right: 0.25em;color: #696969;}#sk-container-id-2 label.sk-toggleable__label-arrow:hover:before {color: black;}#sk-container-id-2 div.sk-estimator:hover label.sk-toggleable__label-arrow:before {color: black;}#sk-container-id-2 div.sk-toggleable__content {max-height: 0;max-width: 0;overflow: hidden;text-align: left;background-color: #f0f8ff;}#sk-container-id-2 div.sk-toggleable__content pre {margin: 0.2em;color: black;border-radius: 0.25em;background-color: #f0f8ff;}#sk-container-id-2 input.sk-toggleable__control:checked~div.sk-toggleable__content {max-height: 200px;max-width: 100%;overflow: auto;}#sk-container-id-2 input.sk-toggleable__control:checked~label.sk-toggleable__label-arrow:before {content: \"▾\";}#sk-container-id-2 div.sk-estimator input.sk-toggleable__control:checked~label.sk-toggleable__label {background-color: #d4ebff;}#sk-container-id-2 div.sk-label input.sk-toggleable__control:checked~label.sk-toggleable__label {background-color: #d4ebff;}#sk-container-id-2 input.sk-hidden--visually {border: 0;clip: rect(1px 1px 1px 1px);clip: rect(1px, 1px, 1px, 1px);height: 1px;margin: -1px;overflow: hidden;padding: 0;position: absolute;width: 1px;}#sk-container-id-2 div.sk-estimator {font-family: monospace;background-color: #f0f8ff;border: 1px dotted black;border-radius: 0.25em;box-sizing: border-box;margin-bottom: 0.5em;}#sk-container-id-2 div.sk-estimator:hover {background-color: #d4ebff;}#sk-container-id-2 div.sk-parallel-item::after {content: \"\";width: 100%;border-bottom: 1px solid gray;flex-grow: 1;}#sk-container-id-2 div.sk-label:hover label.sk-toggleable__label {background-color: #d4ebff;}#sk-container-id-2 div.sk-serial::before {content: \"\";position: absolute;border-left: 1px solid gray;box-sizing: border-box;top: 0;bottom: 0;left: 50%;z-index: 0;}#sk-container-id-2 div.sk-serial {display: flex;flex-direction: column;align-items: center;background-color: white;padding-right: 0.2em;padding-left: 0.2em;position: relative;}#sk-container-id-2 div.sk-item {position: relative;z-index: 1;}#sk-container-id-2 div.sk-parallel {display: flex;align-items: stretch;justify-content: center;background-color: white;position: relative;}#sk-container-id-2 div.sk-item::before, #sk-container-id-2 div.sk-parallel-item::before {content: \"\";position: absolute;border-left: 1px solid gray;box-sizing: border-box;top: 0;bottom: 0;left: 50%;z-index: -1;}#sk-container-id-2 div.sk-parallel-item {display: flex;flex-direction: column;z-index: 1;position: relative;background-color: white;}#sk-container-id-2 div.sk-parallel-item:first-child::after {align-self: flex-end;width: 50%;}#sk-container-id-2 div.sk-parallel-item:last-child::after {align-self: flex-start;width: 50%;}#sk-container-id-2 div.sk-parallel-item:only-child::after {width: 0;}#sk-container-id-2 div.sk-dashed-wrapped {border: 1px dashed gray;margin: 0 0.4em 0.5em 0.4em;box-sizing: border-box;padding-bottom: 0.4em;background-color: white;}#sk-container-id-2 div.sk-label label {font-family: monospace;font-weight: bold;display: inline-block;line-height: 1.2em;}#sk-container-id-2 div.sk-label-container {text-align: center;}#sk-container-id-2 div.sk-container {/* jupyter's `normalize.less` sets `[hidden] { display: none; }` but bootstrap.min.css set `[hidden] { display: none !important; }` so we also need the `!important` here to be able to override the default hidden behavior on the sphinx rendered scikit-learn.org. See: https://github.com/scikit-learn/scikit-learn/issues/21755 */display: inline-block !important;position: relative;}#sk-container-id-2 div.sk-text-repr-fallback {display: none;}</style><div id=\"sk-container-id-2\" class=\"sk-top-container\"><div class=\"sk-text-repr-fallback\"><pre>MultinomialNB(alpha=0.1)</pre><b>In a Jupyter environment, please rerun this cell to show the HTML representation or trust the notebook. <br />On GitHub, the HTML representation is unable to render, please try loading this page with nbviewer.org.</b></div><div class=\"sk-container\" hidden><div class=\"sk-item\"><div class=\"sk-estimator sk-toggleable\"><input class=\"sk-toggleable__control sk-hidden--visually\" id=\"sk-estimator-id-2\" type=\"checkbox\" checked><label for=\"sk-estimator-id-2\" class=\"sk-toggleable__label sk-toggleable__label-arrow\">MultinomialNB</label><div class=\"sk-toggleable__content\"><pre>MultinomialNB(alpha=0.1)</pre></div></div></div></div></div>"
      ],
      "text/plain": [
       "MultinomialNB(alpha=0.1)"
      ]
     },
     "execution_count": 26,
     "metadata": {},
     "output_type": "execute_result"
    }
   ],
   "source": [
    "\n",
    "model.fit(X_train_stack_sc,y_train)"
   ]
  },
  {
   "cell_type": "markdown",
   "metadata": {},
   "source": [
    "### Gensim"
   ]
  },
  {
   "cell_type": "code",
   "execution_count": 33,
   "metadata": {},
   "outputs": [
    {
     "name": "stdout",
     "output_type": "stream",
     "text": [
      "Collecting gensim\n",
      "  Obtaining dependency information for gensim from https://files.pythonhosted.org/packages/ad/97/b8253236dfedb9094f4273393a3fd03997da81f27f15822e56128da894ae/gensim-4.3.2-cp311-cp311-win_amd64.whl.metadata\n",
      "  Downloading gensim-4.3.2-cp311-cp311-win_amd64.whl.metadata (8.5 kB)\n",
      "Requirement already satisfied: numpy>=1.18.5 in c:\\users\\shrun\\appdata\\roaming\\python\\python311\\site-packages (from gensim) (1.26.4)\n",
      "Requirement already satisfied: scipy>=1.7.0 in c:\\users\\shrun\\.conda\\envs\\butterfly\\lib\\site-packages (from gensim) (1.11.3)\n",
      "Requirement already satisfied: smart-open>=1.8.1 in c:\\users\\shrun\\.conda\\envs\\butterfly\\lib\\site-packages (from gensim) (6.4.0)\n",
      "Downloading gensim-4.3.2-cp311-cp311-win_amd64.whl (24.0 MB)\n",
      "   ---------------------------------------- 0.0/24.0 MB ? eta -:--:--\n",
      "   ---------------------------------------- 0.0/24.0 MB ? eta -:--:--\n",
      "   ---------------------------------------- 0.0/24.0 MB ? eta -:--:--\n",
      "   ---------------------------------------- 0.0/24.0 MB 220.2 kB/s eta 0:01:49\n",
      "   ---------------------------------------- 0.0/24.0 MB 245.8 kB/s eta 0:01:38\n",
      "   ---------------------------------------- 0.1/24.0 MB 598.8 kB/s eta 0:00:40\n",
      "   ---------------------------------------- 0.2/24.0 MB 1.0 MB/s eta 0:00:24\n",
      "    --------------------------------------- 0.5/24.0 MB 1.9 MB/s eta 0:00:13\n",
      "   - -------------------------------------- 1.1/24.0 MB 3.4 MB/s eta 0:00:07\n",
      "   --- ------------------------------------ 1.9/24.0 MB 5.4 MB/s eta 0:00:05\n",
      "   --- ------------------------------------ 2.1/24.0 MB 5.5 MB/s eta 0:00:04\n",
      "   --- ------------------------------------ 2.1/24.0 MB 5.5 MB/s eta 0:00:04\n",
      "   --- ------------------------------------ 2.1/24.0 MB 5.5 MB/s eta 0:00:04\n",
      "   --- ------------------------------------ 2.1/24.0 MB 5.5 MB/s eta 0:00:04\n",
      "   --- ------------------------------------ 2.3/24.0 MB 3.9 MB/s eta 0:00:06\n",
      "   ----- ---------------------------------- 3.1/24.0 MB 4.9 MB/s eta 0:00:05\n",
      "   ----- ---------------------------------- 3.2/24.0 MB 5.0 MB/s eta 0:00:05\n",
      "   ----- ---------------------------------- 3.2/24.0 MB 4.5 MB/s eta 0:00:05\n",
      "   ----- ---------------------------------- 3.4/24.0 MB 4.5 MB/s eta 0:00:05\n",
      "   ------ --------------------------------- 4.2/24.0 MB 5.1 MB/s eta 0:00:04\n",
      "   ------ --------------------------------- 4.2/24.0 MB 5.1 MB/s eta 0:00:04\n",
      "   --------- ------------------------------ 5.4/24.0 MB 6.1 MB/s eta 0:00:04\n",
      "   --------- ------------------------------ 5.7/24.0 MB 6.0 MB/s eta 0:00:04\n",
      "   --------- ------------------------------ 5.9/24.0 MB 6.1 MB/s eta 0:00:03\n",
      "   ---------- ----------------------------- 6.3/24.0 MB 6.2 MB/s eta 0:00:03\n",
      "   ---------- ----------------------------- 6.3/24.0 MB 6.2 MB/s eta 0:00:03\n",
      "   ---------- ----------------------------- 6.5/24.0 MB 6.0 MB/s eta 0:00:03\n",
      "   ----------- ---------------------------- 6.8/24.0 MB 6.0 MB/s eta 0:00:03\n",
      "   ------------ --------------------------- 7.5/24.0 MB 6.3 MB/s eta 0:00:03\n",
      "   ------------- -------------------------- 7.8/24.0 MB 6.3 MB/s eta 0:00:03\n",
      "   ------------- -------------------------- 8.2/24.0 MB 6.4 MB/s eta 0:00:03\n",
      "   ------------- -------------------------- 8.3/24.0 MB 6.4 MB/s eta 0:00:03\n",
      "   ------------- -------------------------- 8.4/24.0 MB 6.2 MB/s eta 0:00:03\n",
      "   -------------- ------------------------- 8.5/24.0 MB 6.0 MB/s eta 0:00:03\n",
      "   -------------- ------------------------- 8.5/24.0 MB 6.0 MB/s eta 0:00:03\n",
      "   --------------- ------------------------ 9.1/24.0 MB 6.0 MB/s eta 0:00:03\n",
      "   --------------- ------------------------ 9.1/24.0 MB 5.9 MB/s eta 0:00:03\n",
      "   --------------- ------------------------ 9.5/24.0 MB 5.8 MB/s eta 0:00:03\n",
      "   --------------- ------------------------ 9.5/24.0 MB 5.8 MB/s eta 0:00:03\n",
      "   ---------------- ----------------------- 9.8/24.0 MB 5.7 MB/s eta 0:00:03\n",
      "   ---------------- ----------------------- 10.0/24.0 MB 5.7 MB/s eta 0:00:03\n",
      "   ---------------- ----------------------- 10.2/24.0 MB 5.6 MB/s eta 0:00:03\n",
      "   ----------------- ---------------------- 10.3/24.0 MB 6.1 MB/s eta 0:00:03\n",
      "   ----------------- ---------------------- 10.5/24.0 MB 6.1 MB/s eta 0:00:03\n",
      "   ----------------- ---------------------- 10.6/24.0 MB 6.0 MB/s eta 0:00:03\n",
      "   ------------------ --------------------- 10.8/24.0 MB 5.9 MB/s eta 0:00:03\n",
      "   ------------------ --------------------- 10.9/24.0 MB 5.8 MB/s eta 0:00:03\n",
      "   ------------------ --------------------- 11.0/24.0 MB 5.7 MB/s eta 0:00:03\n",
      "   ------------------ --------------------- 11.1/24.0 MB 5.5 MB/s eta 0:00:03\n",
      "   ------------------ --------------------- 11.2/24.0 MB 5.4 MB/s eta 0:00:03\n",
      "   ------------------ --------------------- 11.4/24.0 MB 5.4 MB/s eta 0:00:03\n",
      "   ------------------- -------------------- 11.6/24.0 MB 5.2 MB/s eta 0:00:03\n",
      "   ------------------- -------------------- 11.7/24.0 MB 5.2 MB/s eta 0:00:03\n",
      "   ------------------- -------------------- 11.9/24.0 MB 5.1 MB/s eta 0:00:03\n",
      "   -------------------- ------------------- 12.0/24.0 MB 5.0 MB/s eta 0:00:03\n",
      "   -------------------- ------------------- 12.2/24.0 MB 4.9 MB/s eta 0:00:03\n",
      "   -------------------- ------------------- 12.3/24.0 MB 5.3 MB/s eta 0:00:03\n",
      "   -------------------- ------------------- 12.5/24.0 MB 5.2 MB/s eta 0:00:03\n",
      "   --------------------- ------------------ 12.7/24.0 MB 5.1 MB/s eta 0:00:03\n",
      "   --------------------- ------------------ 12.9/24.0 MB 5.1 MB/s eta 0:00:03\n",
      "   --------------------- ------------------ 13.1/24.0 MB 5.0 MB/s eta 0:00:03\n",
      "   ---------------------- ----------------- 13.2/24.0 MB 4.9 MB/s eta 0:00:03\n",
      "   ---------------------- ----------------- 13.4/24.0 MB 4.8 MB/s eta 0:00:03\n",
      "   ---------------------- ----------------- 13.6/24.0 MB 5.0 MB/s eta 0:00:03\n",
      "   ---------------------- ----------------- 13.8/24.0 MB 4.9 MB/s eta 0:00:03\n",
      "   ----------------------- ---------------- 13.9/24.0 MB 4.8 MB/s eta 0:00:03\n",
      "   ----------------------- ---------------- 14.1/24.0 MB 4.7 MB/s eta 0:00:03\n",
      "   ----------------------- ---------------- 14.3/24.0 MB 4.7 MB/s eta 0:00:03\n",
      "   ------------------------ --------------- 14.5/24.0 MB 4.7 MB/s eta 0:00:03\n",
      "   ------------------------ --------------- 14.6/24.0 MB 4.6 MB/s eta 0:00:03\n",
      "   ------------------------ --------------- 14.8/24.0 MB 4.5 MB/s eta 0:00:03\n",
      "   ------------------------ --------------- 15.0/24.0 MB 4.5 MB/s eta 0:00:03\n",
      "   ------------------------- -------------- 15.2/24.0 MB 4.4 MB/s eta 0:00:03\n",
      "   ------------------------- -------------- 15.3/24.0 MB 4.3 MB/s eta 0:00:03\n",
      "   ------------------------- -------------- 15.6/24.0 MB 4.2 MB/s eta 0:00:03\n",
      "   -------------------------- ------------- 15.7/24.0 MB 4.2 MB/s eta 0:00:02\n",
      "   -------------------------- ------------- 15.9/24.0 MB 4.2 MB/s eta 0:00:02\n",
      "   -------------------------- ------------- 16.1/24.0 MB 4.1 MB/s eta 0:00:02\n",
      "   --------------------------- ------------ 16.3/24.0 MB 4.1 MB/s eta 0:00:02\n",
      "   --------------------------- ------------ 16.5/24.0 MB 4.0 MB/s eta 0:00:02\n",
      "   --------------------------- ------------ 16.7/24.0 MB 4.1 MB/s eta 0:00:02\n",
      "   ---------------------------- ----------- 16.9/24.0 MB 4.1 MB/s eta 0:00:02\n",
      "   ---------------------------- ----------- 17.1/24.0 MB 4.1 MB/s eta 0:00:02\n",
      "   ---------------------------- ----------- 17.3/24.0 MB 4.0 MB/s eta 0:00:02\n",
      "   ----------------------------- ---------- 17.4/24.0 MB 3.9 MB/s eta 0:00:02\n",
      "   ----------------------------- ---------- 17.7/24.0 MB 3.9 MB/s eta 0:00:02\n",
      "   ----------------------------- ---------- 17.9/24.0 MB 3.9 MB/s eta 0:00:02\n",
      "   ------------------------------ --------- 18.0/24.0 MB 3.8 MB/s eta 0:00:02\n",
      "   ------------------------------ --------- 18.2/24.0 MB 3.8 MB/s eta 0:00:02\n",
      "   ------------------------------ --------- 18.5/24.0 MB 3.8 MB/s eta 0:00:02\n",
      "   ------------------------------- -------- 18.6/24.0 MB 3.9 MB/s eta 0:00:02\n",
      "   ------------------------------- -------- 18.8/24.0 MB 3.9 MB/s eta 0:00:02\n",
      "   ------------------------------- -------- 19.1/24.0 MB 3.9 MB/s eta 0:00:02\n",
      "   -------------------------------- ------- 19.3/24.0 MB 3.8 MB/s eta 0:00:02\n",
      "   -------------------------------- ------- 19.5/24.0 MB 3.9 MB/s eta 0:00:02\n",
      "   -------------------------------- ------- 19.7/24.0 MB 3.9 MB/s eta 0:00:02\n",
      "   --------------------------------- ------ 19.9/24.0 MB 3.9 MB/s eta 0:00:02\n",
      "   --------------------------------- ------ 20.1/24.0 MB 3.9 MB/s eta 0:00:02\n",
      "   --------------------------------- ------ 20.3/24.0 MB 3.9 MB/s eta 0:00:01\n",
      "   --------------------------------- ------ 20.3/24.0 MB 3.9 MB/s eta 0:00:01\n",
      "   ---------------------------------- ----- 20.7/24.0 MB 4.0 MB/s eta 0:00:01\n",
      "   ---------------------------------- ----- 20.9/24.0 MB 4.0 MB/s eta 0:00:01\n",
      "   ----------------------------------- ---- 21.1/24.0 MB 4.0 MB/s eta 0:00:01\n",
      "   ----------------------------------- ---- 21.3/24.0 MB 4.1 MB/s eta 0:00:01\n",
      "   ----------------------------------- ---- 21.5/24.0 MB 4.1 MB/s eta 0:00:01\n",
      "   ------------------------------------ --- 21.7/24.0 MB 4.2 MB/s eta 0:00:01\n",
      "   ------------------------------------ --- 22.0/24.0 MB 4.2 MB/s eta 0:00:01\n",
      "   ------------------------------------ --- 22.1/24.0 MB 4.3 MB/s eta 0:00:01\n",
      "   ------------------------------------- -- 22.4/24.0 MB 4.3 MB/s eta 0:00:01\n",
      "   ------------------------------------- -- 22.6/24.0 MB 4.3 MB/s eta 0:00:01\n",
      "   -------------------------------------- - 22.8/24.0 MB 4.3 MB/s eta 0:00:01\n",
      "   -------------------------------------- - 23.0/24.0 MB 4.3 MB/s eta 0:00:01\n",
      "   -------------------------------------- - 23.2/24.0 MB 4.3 MB/s eta 0:00:01\n",
      "   ---------------------------------------  23.5/24.0 MB 4.3 MB/s eta 0:00:01\n",
      "   ---------------------------------------  23.7/24.0 MB 4.4 MB/s eta 0:00:01\n",
      "   ---------------------------------------  23.8/24.0 MB 4.4 MB/s eta 0:00:01\n",
      "   ---------------------------------------  24.0/24.0 MB 4.4 MB/s eta 0:00:01\n",
      "   ---------------------------------------  24.0/24.0 MB 4.4 MB/s eta 0:00:01\n",
      "   ---------------------------------------- 24.0/24.0 MB 4.2 MB/s eta 0:00:00\n",
      "Installing collected packages: gensim\n",
      "Successfully installed gensim-4.3.2\n"
     ]
    }
   ],
   "source": [
    "!pip install gensim"
   ]
  },
  {
   "cell_type": "code",
   "execution_count": 34,
   "metadata": {},
   "outputs": [],
   "source": [
    "# Gensim to conduct word2vec\n",
    "import gensim.downloader as api "
   ]
  },
  {
   "cell_type": "code",
   "execution_count": 35,
   "metadata": {},
   "outputs": [
    {
     "name": "stdout",
     "output_type": "stream",
     "text": [
      "[==================================================] 100.0% 1662.8/1662.8MB downloaded\n"
     ]
    }
   ],
   "source": [
    "wv = api.load('word2vec-google-news-300')"
   ]
  },
  {
   "cell_type": "code",
   "execution_count": 36,
   "metadata": {},
   "outputs": [
    {
     "data": {
      "text/plain": [
       "0.729151"
      ]
     },
     "execution_count": 36,
     "metadata": {},
     "output_type": "execute_result"
    }
   ],
   "source": [
    "wv.similarity(\"good\",\"great\")"
   ]
  },
  {
   "cell_type": "code",
   "execution_count": 37,
   "metadata": {},
   "outputs": [
    {
     "data": {
      "text/plain": [
       "0.34199455"
      ]
     },
     "execution_count": 37,
     "metadata": {},
     "output_type": "execute_result"
    }
   ],
   "source": [
    "wv.similarity(\"profit\",\"loss\")"
   ]
  },
  {
   "cell_type": "code",
   "execution_count": 38,
   "metadata": {},
   "outputs": [
    {
     "data": {
      "text/plain": [
       "[('great', 0.7291510105133057),\n",
       " ('bad', 0.7190051078796387),\n",
       " ('terrific', 0.6889115571975708),\n",
       " ('decent', 0.6837348341941833),\n",
       " ('nice', 0.6836092472076416),\n",
       " ('excellent', 0.644292950630188),\n",
       " ('fantastic', 0.6407778263092041),\n",
       " ('better', 0.6120728850364685),\n",
       " ('solid', 0.5806034803390503),\n",
       " ('lousy', 0.576420247554779)]"
      ]
     },
     "execution_count": 38,
     "metadata": {},
     "output_type": "execute_result"
    }
   ],
   "source": [
    "wv.most_similar(\"good\")"
   ]
  },
  {
   "cell_type": "code",
   "execution_count": 39,
   "metadata": {},
   "outputs": [
    {
     "data": {
      "text/plain": [
       "[('queens', 0.739944338798523),\n",
       " ('princess', 0.7070532441139221),\n",
       " ('king', 0.6510956883430481),\n",
       " ('monarch', 0.6383602023124695),\n",
       " ('very_pampered_McElhatton', 0.6357026696205139),\n",
       " ('Queen', 0.6163407564163208),\n",
       " ('NYC_anglophiles_aflutter', 0.6060680150985718),\n",
       " ('Queen_Consort', 0.5923796892166138),\n",
       " ('princesses', 0.5908074975013733),\n",
       " ('royal', 0.5637185573577881)]"
      ]
     },
     "execution_count": 39,
     "metadata": {},
     "output_type": "execute_result"
    }
   ],
   "source": [
    "wv.most_similar(\"queen\")"
   ]
  },
  {
   "cell_type": "code",
   "execution_count": 40,
   "metadata": {},
   "outputs": [
    {
     "data": {
      "text/plain": [
       "[('monarch', 0.6135684847831726),\n",
       " ('princess', 0.5597445964813232),\n",
       " ('prince', 0.5126818418502808),\n",
       " ('kings', 0.511933445930481),\n",
       " ('royal', 0.5101755857467651),\n",
       " ('queens', 0.4952612817287445),\n",
       " ('Queen_Consort', 0.488391250371933),\n",
       " ('Eugene_Ionesco_absurdist_comedy', 0.4882142245769501),\n",
       " ('Makobo_Modjadji', 0.4837609529495239),\n",
       " ('crown_prince', 0.48335814476013184)]"
      ]
     },
     "execution_count": 40,
     "metadata": {},
     "output_type": "execute_result"
    }
   ],
   "source": [
    "wv.most_similar(positive=['king','queen'], negative=['men'])"
   ]
  },
  {
   "cell_type": "code",
   "execution_count": 41,
   "metadata": {},
   "outputs": [
    {
     "data": {
      "text/plain": [
       "[('monarch', 0.6135684847831726),\n",
       " ('princess', 0.5597445964813232),\n",
       " ('prince', 0.5126818418502808)]"
      ]
     },
     "execution_count": 41,
     "metadata": {},
     "output_type": "execute_result"
    }
   ],
   "source": [
    "wv.most_similar(positive=['king','queen'], negative=['men'],topn=3)\n"
   ]
  },
  {
   "cell_type": "code",
   "execution_count": 42,
   "metadata": {},
   "outputs": [
    {
     "data": {
      "text/plain": [
       "'facebook'"
      ]
     },
     "execution_count": 42,
     "metadata": {},
     "output_type": "execute_result"
    }
   ],
   "source": [
    "wv.doesnt_match([\"facebook\",\"cat\",\"dog\",\"hours\"])"
   ]
  },
  {
   "cell_type": "markdown",
   "metadata": {},
   "source": [
    "## Glove\n"
   ]
  },
  {
   "cell_type": "code",
   "execution_count": null,
   "metadata": {},
   "outputs": [],
   "source": [
    "# "
   ]
  }
 ],
 "metadata": {
  "kernelspec": {
   "display_name": "butterfly",
   "language": "python",
   "name": "python3"
  },
  "language_info": {
   "codemirror_mode": {
    "name": "ipython",
    "version": 3
   },
   "file_extension": ".py",
   "mimetype": "text/x-python",
   "name": "python",
   "nbconvert_exporter": "python",
   "pygments_lexer": "ipython3",
   "version": "3.11.4"
  }
 },
 "nbformat": 4,
 "nbformat_minor": 2
}
